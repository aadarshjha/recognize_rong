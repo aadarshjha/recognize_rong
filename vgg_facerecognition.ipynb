{
  "nbformat": 4,
  "nbformat_minor": 0,
  "metadata": {
    "colab": {
      "name": "vgg_facerecognition.ipynb",
      "provenance": [],
      "collapsed_sections": []
    },
    "kernelspec": {
      "name": "python_defaultSpec_1598594996216",
      "display_name": "Python 3.6.8 64-bit"
    },
    "accelerator": "GPU"
  },
  "cells": [
    {
      "cell_type": "code",
      "metadata": {
        "id": "oaS3xik7PJs4",
        "colab_type": "code",
        "colab": {}
      },
      "source": [
        "import tensorflow as tf\n",
        "import tensorflow.keras as keras\n",
        "\n",
        "import PIL\n",
        "from PIL import Image\n",
        "from matplotlib.pyplot import imshow\n",
        "\n",
        "import os\n",
        "\n",
        "import numpy as np\n",
        "\n",
        "from scipy.spatial.distance import cosine"
      ],
      "execution_count": 5,
      "outputs": []
    },
    {
      "cell_type": "code",
      "metadata": {
        "id": "XvOuPbgBUCvU",
        "colab_type": "code",
        "colab": {
          "base_uri": "https://localhost:8080/",
          "height": 505
        },
        "outputId": "197b5392-5d51-4178-d6a2-4d7c6bd9c7fe",
        "tags": []
      },
      "source": [
        "!pip install keras_applications\n",
        "!pip install git+https://github.com/rcmalli/keras-vggface.git"
      ],
      "execution_count": 6,
      "outputs": [
        {
          "output_type": "stream",
          "name": "stdout",
          "text": "Collecting keras_applications\n  Using cached https://files.pythonhosted.org/packages/71/e3/19762fdfc62877ae9102edf6342d71b28fbfd9dea3d2f96a882ce099b03f/Keras_Applications-1.0.8-py3-none-any.whl\nRequirement already satisfied: h5py in c:\\users\\rongw\\appdata\\local\\programs\\python\\python36\\lib\\site-packages (from keras_applications) (2.10.0)\nRequirement already satisfied: numpy>=1.9.1 in c:\\users\\rongw\\appdata\\local\\programs\\python\\python36\\lib\\site-packages (from keras_applications) (1.18.5)You are using pip version 18.1, however version 20.2.2 is available.\nYou should consider upgrading via the 'python -m pip install --upgrade pip' command.\n\nRequirement already satisfied: six in c:\\users\\rongw\\appdata\\roaming\\python\\python36\\site-packages (from h5py->keras_applications) (1.15.0)\nInstalling collected packages: keras-applications\nSuccessfully installed keras-applications-1.0.8\nCollecting git+https://github.com/rcmalli/keras-vggface.git\n  Cloning https://github.com/rcmalli/keras-vggface.git to c:\\users\\rongw\\appdata\\local\\temp\\pip-req-build-gh7z7leb\nRequirement already satisfied: numpy>=1.9.1 in c:\\users\\rongw\\appdata\\local\\programs\\python\\python36\\lib\\site-packages (from keras-vggface==0.6) (1.18.5)\nRequirement already satisfied: scipy>=0.14 in c:\\users\\rongw\\appdata\\local\\programs\\python\\python36\\lib\\site-packages (from keras-vggface==0.6) (1.4.1)\nRequirement already satisfied: h5py in c:\\users\\rongw\\appdata\\local\\programs\\python\\python36\\lib\\site-packages (from keras-vggface==0.6) (2.10.0)\nRequirement already satisfied: pillow in c:\\users\\rongw\\appdata\\local\\programs\\python\\python36\\lib\\site-packages (from keras-vggface==0.6) (7.2.0)\nCollecting keras (from keras-vggface==0.6)\n  Using cached https://files.pythonhosted.org/packages/44/e1/dc0757b20b56c980b5553c1b5c4c32d378c7055ab7bfa92006801ad359ab/Keras-2.4.3-py2.py3-none-any.whl\nRequirement already satisfied: six>=1.9.0 in c:\\users\\rongw\\appdata\\roaming\\python\\python36\\site-packages (from keras-vggface==0.6) (1.15.0)\nCollecting pyyaml (from keras-vggface==0.6)\n  Using cached https://files.pythonhosted.org/packages/61/5e/0386f8d74ce6e0a183b93a7e02d32b2629c0a2c8e9db806a3f5eebbfa221/PyYAML-5.3.1-cp36-cp36m-win_amd64.whl\nBuilding wheels for collected packages: keras-vggface\n  Running setup.py bdist_wheel for keras-vggface: started\n  Running setup.py bdist_wheel for keras-vggface: finished with status 'done'\n  Stored in directory: C:\\Users\\rongw\\AppData\\Local\\Temp\\pip-ephem-wheel-cache-_cfuaota\\wheels\\36\\07\\46\\06c25ce8e9cd396dabe151ea1d8a2bc28dafcb11321c1f3a6d\nSuccessfully built keras-vggface\nInstalling collected packages: pyyaml, keras, keras-vggface\nSuccessfully installed keras-2.4.3 keras-vggface-0.6 pyyaml-5.3.1\nYou are using pip version 18.1, however version 20.2.2 is available.\nYou should consider upgrading via the 'python -m pip install --upgrade pip' command.\n"
        }
      ]
    },
    {
      "cell_type": "code",
      "metadata": {
        "id": "NYciNFwbi1dJ",
        "colab_type": "code",
        "colab": {}
      },
      "source": [
        "from keras_vggface.vggface import VGGFace\n",
        "from keras_vggface.utils import preprocess_input\n",
        "from keras_vggface.utils import decode_predictions"
      ],
      "execution_count": 7,
      "outputs": []
    },
    {
      "cell_type": "code",
      "metadata": {
        "id": "RKX-1QMRbnun",
        "colab_type": "code",
        "colab": {}
      },
      "source": [
        "image_dir = 'faces/aligned/rong/'"
      ],
      "execution_count": 11,
      "outputs": []
    },
    {
      "cell_type": "code",
      "metadata": {
        "id": "46z4yUJrPQO8",
        "colab_type": "code",
        "colab": {
          "base_uri": "https://localhost:8080/",
          "height": 36
        },
        "outputId": "841e5305-97d0-4168-8b3f-714f99dc83ec",
        "tags": []
      },
      "source": [
        "model = VGGFace(include_top=False, input_shape=(244,244,3), pooling='avg')\n",
        "\n",
        "print(model.inputs)"
      ],
      "execution_count": 8,
      "outputs": [
        {
          "output_type": "stream",
          "name": "stdout",
          "text": "Downloading data from https://github.com/rcmalli/keras-vggface/releases/download/v2.0/rcmalli_vggface_tf_notop_vgg16.h5\n58916864/58909280 [==============================] - 5s 0us/step\n[<tf.Tensor 'input_1:0' shape=(None, 244, 244, 3) dtype=float32>]\n"
        }
      ]
    },
    {
      "cell_type": "code",
      "metadata": {
        "id": "c3CARHjKcL6u",
        "colab_type": "code",
        "colab": {
          "base_uri": "https://localhost:8080/",
          "height": 308
        },
        "outputId": "54da1fa7-3460-4bc1-b822-43182f82702c",
        "tags": []
      },
      "source": [
        "face_embeddings = []\n",
        "size = (224, 224)\n",
        "for file in os.listdir(image_dir):\n",
        "  img = Image.open(image_dir + file)\n",
        "  img = img.resize(size)\n",
        "  pix = np.array(img)\n",
        "  pix = pix.astype('float32')\n",
        "  pix = np.expand_dims(pix, axis=0)\n",
        "\n",
        "  faces = preprocess_input(pix, version=2)\n",
        "  res = model.predict(faces)\n",
        "  face_embeddings.append(res)"
      ],
      "execution_count": 12,
      "outputs": [
        {
          "output_type": "stream",
          "name": "stdout",
          "text": "WARNING:tensorflow:Model was constructed with shape (None, 244, 244, 3) for input Tensor(\"input_1:0\", shape=(None, 244, 244, 3), dtype=float32), but it was called on an input with incompatible shape (None, 224, 224, 3).\n"
        }
      ]
    },
    {
      "cell_type": "code",
      "metadata": {
        "id": "QVKUblKMoTMR",
        "colab_type": "code",
        "colab": {
          "base_uri": "https://localhost:8080/",
          "height": 410
        },
        "outputId": "a444ba9a-6ff8-4fdd-8cec-a71ead0ef036",
        "tags": []
      },
      "source": [
        "for i in range(len(face_embeddings)):\n",
        "  for j in range(i + 1, len(face_embeddings)):\n",
        "    print(cosine(face_embeddings[i], face_embeddings[j]))"
      ],
      "execution_count": 13,
      "outputs": [
        {
          "output_type": "stream",
          "name": "stdout",
          "text": "0.23907291889190674\n0.23728108406066895\n0.23878109455108643\n0.19206416606903076\n0.13983505964279175\n0.2090103030204773\n0.17643243074417114\n0.15712487697601318\n0.10424357652664185\n0.14914411306381226\n0.20300370454788208\n0.020531892776489258\n0.08443266153335571\n0.20429545640945435\n0.20772600173950195\n0.07056140899658203\n0.18709790706634521\n0.20214241743087769\n0.1253151297569275\n0.16425704956054688\n0.21160531044006348\n"
        }
      ]
    },
    {
      "cell_type": "code",
      "metadata": {
        "id": "r-xPE2Q4mtKY",
        "colab_type": "code",
        "colab": {
          "base_uri": "https://localhost:8080/",
          "height": 205
        },
        "outputId": "eea4bcb6-4f66-4f8c-b67a-1d672497bfd9",
        "tags": []
      },
      "source": [
        "vgg = VGGFace()\n",
        "\n",
        "for file in os.listdir(image_dir):\n",
        "  img = Image.open(image_dir + file)\n",
        "  img = img.resize(size)\n",
        "  pix = np.array(img)\n",
        "  pix = pix.astype('float32')\n",
        "  pix = np.expand_dims(pix, axis=0)\n",
        "\n",
        "  pix = preprocess_input(pix, version=2)\n",
        "  res = vgg.predict(pix)\n",
        "  results = decode_predictions(res)\n",
        "\n",
        "  print(results)\n"
      ],
      "execution_count": 14,
      "outputs": [
        {
          "output_type": "stream",
          "name": "stdout",
          "text": "Downloading data from https://github.com/rcmalli/keras-vggface/releases/download/v2.0/rcmalli_vggface_tf_vgg16.h5\n580075520/580070376 [==============================] - 53s 0us/step\nDownloading data from https://github.com/rcmalli/keras-vggface/releases/download/v2.0/rcmalli_vggface_labels_v1.npy\n352256/346184 [==============================] - 0s 0us/step\n[[[\"b'Jake_Cherry'\", 0.053910624], [\"b'Sung_Kang'\", 0.045296513], [\"b'Ziyi_Zhang'\", 0.02541047], [\"b'Tatsuya_Fujiwara'\", 0.024662035], [\"b'Britne_Oldford'\", 0.021219501]]]\n[[[\"b'Rico_Rodriguez'\", 0.15663268], [\"b'Raini_Rodriguez'\", 0.10730991], [\"b'Abraham_Benrubi'\", 0.056211434], [\"b'Adina_Porter'\", 0.049394984], [\"b'Samira_Wiley'\", 0.0397642]]]\n[[[\"b'Toni_Trucks'\", 0.46224257], [\"b'Della_Reese'\", 0.028679254], [\"b'Jonathan_Keltz'\", 0.019823609], [\"b'Efren_Ramirez'\", 0.016146371], [\"b'Kali_Hawk'\", 0.015836021]]]\n[[[\"b'Toni_Trucks'\", 0.13594985], [\"b'Della_Reese'\", 0.09534202], [\"b'Kali_Hawk'\", 0.050067846], [\"b'Efren_Ramirez'\", 0.023995752], [\"b'Jonathan_Keltz'\", 0.019606672]]]\n[[[\"b'Kali_Hawk'\", 0.046978556], [\"b'Toni_Trucks'\", 0.035119053], [\"b'Jordan_Gavaris'\", 0.031737268], [\"b'Reece_Thompson'\", 0.024978954], [\"b'Abraham_Benrubi'\", 0.021160793]]]\n[[[\"b'Jimmy_Bennett'\", 0.19307816], [\"b'Kali_Hawk'\", 0.07509603], [\"b'Andy_Milonakis'\", 0.040492963], [\"b'Dylan_Minnette'\", 0.037739523], [\"b'Jake_Cherry'\", 0.029538127]]]\n[[[\"b'Retta'\", 0.04578318], [\"b'Aaron_Yoo'\", 0.040536918], [\"b'Efren_Ramirez'\", 0.023860376], [\"b'A.R._Rahman'\", 0.022594169], [\"b'Kali_Hawk'\", 0.01667673]]]\n"
        }
      ]
    },
    {
      "cell_type": "code",
      "execution_count": null,
      "metadata": {},
      "outputs": [],
      "source": []
    }
  ]
}